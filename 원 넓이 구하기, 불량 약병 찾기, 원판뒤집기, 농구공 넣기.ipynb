{
 "cells": [
  {
   "cell_type": "markdown",
   "metadata": {},
   "source": [
    "### problem 3 ###\n",
    "<img src = \"./image.PNG\" style = \"height:200px\">\n",
    "\n",
    "* 먼저, 사각형의 중심 부분에 각 반원으로 보이는 부분이 겹치는 부분의 넓이를 구한다  \n",
    "* 이 경우, 겹치는 부분은 다음과 같이 정삼각형 하나와, 원호 두 개로 구성되어짐을 알 수 있다.  \n",
    "\n",
    "<img src = \"./image2.PNG\" style = \"height:200px\">\n",
    "\n",
    "* 정삼각형의 넓이는 다음과 같다.  \n",
    "$$ S = \\frac{\\sqrt 3}{4} * r^2, r = 1$$\n",
    "\n",
    "* 그리고, 부채꼴의 넓이를 알면, 원호의 넓이를 포함하여 중간 부분의 총 2개의 초록 영역과, 1개의 빨간 영역, 1개의 파란 영역을 계산할 수 있다.\n",
    "$$ R + 2G + B = S + 2 * 활꼴  $$\n",
    "$$ R + 2G + B = \\frac{\\pi}{3} - \\frac{\\sqrt 3}{4} $$\n",
    "\n",
    "* 가운데 영역의 넓이를 알았으니, 이를 이용하여 다음 영역의 넓이를 계산할 수 있다.  \n",
    "\n",
    "<img src = \"./image3.PNG\" style = \"height:200px\">  \n",
    "\n",
    "$$ R + G = \\frac{\\sqrt 3}{4} - \\frac{\\pi}{12} $$\n",
    "\n",
    "* 위에서 구한 영역의 넓이를 이용하여, 한 개의 R 영역의 넓이를 구할 수 있게 된다.  \n",
    "\n",
    "$$ R = 1 - \\left\\{2 * (R + G) + (R + 2G + B)\\right\\} $$\n",
    "$$ R = 1 - \\frac{\\sqrt 3}{4} - \\frac{\\pi}{6} $$\n",
    "\n",
    "* R의 넓이와, 위의 수식을 이용하여 G 및 B를 계산하면, 다음과 같다.  \n",
    "\n",
    "$$ G = \\frac{\\sqrt 3}{2} + \\frac{\\pi}{12} - 1 $$\n",
    "$$ B = \\frac{\\pi}{3} - \\sqrt 3 + 1 $$\n",
    "\n",
    "* 따라서, 문제에서 요구하는 답은 다음과 같다.  \n",
    "$$ RED\\; area = 4 * R = \\left\\{1 - \\frac{\\sqrt 3}{4} - \\frac{\\pi}{6}\\right\\} $$\n",
    "$$ BLUE\\; area = B = \\frac{\\pi}{3} - \\sqrt 3 + 1 $$\n",
    "$$ GREEN\\; area = 4 * G = 4 * \\left\\{ \\frac{\\sqrt 3}{2} + \\frac{\\pi}{12} - 1 \\right\\} $$"
   ]
  },
  {
   "cell_type": "code",
   "execution_count": 1,
   "metadata": {},
   "outputs": [],
   "source": [
    "## 위 수식 총합 검증 ##\n",
    "\n",
    "import numpy as np\n",
    "\n",
    "r = 1 - 1/4*np.sqrt(3) - 1/6*np.pi\n",
    "g = 1/2*np.sqrt(3) + 1/12*np.pi - 1\n",
    "b = 1/3*np.pi - np.sqrt(3) + 1"
   ]
  },
  {
   "cell_type": "code",
   "execution_count": 6,
   "metadata": {},
   "outputs": [
    {
     "name": "stdout",
     "output_type": "stream",
     "text": [
      "0.043388522509481886 0.12782479158358795 0.31514674362772044 0.9999999999999998\n"
     ]
    }
   ],
   "source": [
    "total = 4*r + 4*g + b\n",
    "print(r, g, b, total)"
   ]
  },
  {
   "cell_type": "code",
   "execution_count": null,
   "metadata": {},
   "outputs": [],
   "source": []
  },
  {
   "cell_type": "markdown",
   "metadata": {},
   "source": [
    "#### 1. 불량 약병 찾기\n",
    "- 각각 100개의 약이 들어 있는 20개의 약병이 있다.  \n",
    "- 한개의 약병을 제외하고 나머지 약병의 약들은 1g 이다.  \n",
    "- 한개는 약들이 1.1g이다.  \n",
    "- 저울을 한 번만 재서 그 약병을 찾는 방법은?"
   ]
  },
  {
   "cell_type": "markdown",
   "metadata": {},
   "source": [
    "#### 1. 답안\n",
    "* n 번쨰 병에 대하여, n개의 알약을 제거한다.  \n",
    "* 이후, 알약을 제거한 20개의 약병을 모두 저울을 이용하여 무게를 측정한다.\n",
    "* 그렇게 되면, 1.1g의 무게를 가지는 알약이 몇 개 제외되었는지 알 수 있으므로, 약병을 찾을 수 있다."
   ]
  },
  {
   "cell_type": "markdown",
   "metadata": {},
   "source": [
    "#### 2. 농구 공 넣기\n",
    "- 내가 농구 공을 넣을 확률은 $p$ 이다.\n",
    "- 나는 다음 두 종류 중 어떤 것을 선택해야 할 것인가?\n",
    "    - 슛을 한번만 할 수 있다.  \n",
    "    - 세번 던져서 두번 이상을 넣어야 한다."
   ]
  },
  {
   "cell_type": "markdown",
   "metadata": {},
   "source": [
    "#### 2번 답안 ####\n",
    "\n",
    "* 한 번 던져서 성공할 확률은 p이다.  \n",
    "* 3 번 던져서 2 번 이상 성공할 확률은 다음과 같다.  \n",
    "\n",
    "$$ _3C_2 p^2(1-p) + \\;_3C_3p^3 \\qquad ( 0 \\le p \\le 1)$$  \n",
    "\n",
    "* 따라서, 위 조건을 그래프로 그리면 다음 코드로 나타낼 수 있다."
   ]
  },
  {
   "cell_type": "code",
   "execution_count": 30,
   "metadata": {},
   "outputs": [
    {
     "data": {
      "image/png": "[encoded data removed]",
      "text/plain": [
       "<Figure size 432x288 with 1 Axes>"
      ]
     },
     "metadata": {
      "needs_background": "light"
     },
     "output_type": "display_data"
    }
   ],
   "source": [
    "import numpy\n",
    "import matplotlib.pyplot as plt\n",
    "\n",
    "p = np.arange(0, 1, 0.01)\n",
    "y = 3 * p**2 * (1 - p) + p**3\n",
    "\n",
    "\n",
    "\n",
    "plt.plot(p, y, label = \"throw 3 times\")\n",
    "plt.plot(p, p , label = \"throw one time\")\n",
    "plt.legend()\n",
    "plt.show()\n"
   ]
  },
  {
   "cell_type": "markdown",
   "metadata": {},
   "source": [
    "* 그래프에서 확인할 수 있듯, 성공확률 p는 0.5를 기준으로, 0.5보다 낮은 경우 한 번만 던지는 것이 좋으며, 0.5를 초과하는 경우 3번 던지는 것이 성공률이 높은 것을 확인할 수 있었다."
   ]
  },
  {
   "cell_type": "code",
   "execution_count": 29,
   "metadata": {},
   "outputs": [
    {
     "data": {
      "text/plain": [
       "0.5"
      ]
     },
     "execution_count": 29,
     "metadata": {},
     "output_type": "execute_result"
    }
   ],
   "source": [
    "# test case\n",
    "def y(p) :\n",
    "    return (3 * p**2) - 2*(p**3)\n",
    "\n",
    "y(0.5)"
   ]
  },
  {
   "cell_type": "markdown",
   "metadata": {},
   "source": [
    "### 3. 원판 뒤집기\n",
    "- size가 다른 원판의 stack이 있다.\n",
    "- flip 기계에 입력 n을 넣으면 n번째의 원판부터 맨위까지를 뒤집는다.\n",
    "- 큰 원판부터 차례로 쌓는 방법\n",
    "- input: \n",
    "    - prob3case.txt 각 line에 원판의 크기가 나열되어 있다. (첫번째 숫자가 맨 위임)\n",
    "- output:\n",
    "    - 각 line에 대한 뒤집는 회수, 뒤집는 번호를 차례대로 (0-based index)"
   ]
  },
  {
   "cell_type": "markdown",
   "metadata": {},
   "source": [
    "#### 3. 답안 ####\n",
    "* 먼저, 가장 큰 사이즈를 가지는 원판의 index를 찾는다.\n",
    "* 찾은 원판을 기준으로, flip을 진행한 뒤, 전체를 flip하는 과정을 반복합니다.\n",
    "* 결과적으로, 큰 원판부터 차례대로 정렬되게 되며, 모든 원판이 정렬된 경우 함수를 종료합니다."
   ]
  },
  {
   "cell_type": "code",
   "execution_count": null,
   "metadata": {},
   "outputs": [],
   "source": [
    "\n",
    "\n",
    "def swap(index, input) :\n",
    "    print(input)\n",
    "    input_a = input[0:index]\n",
    "    input_b = input[index:]\n",
    "    input_b.reverse()\n",
    "    print(input_a, input_b)\n",
    "    return input_a + input_b\n",
    "\n",
    "def max_index_finder(input, counter, answer) :\n",
    "    max = -1\n",
    "    max_number = answer[counter]\n",
    "    \n",
    "\n",
    "    for idx, i in enumerate(input) :\n",
    "        if i == max_number :\n",
    "            print(\"max_number(index) : \", max_number, \"(\" , idx, \")\")\n",
    "            return idx\n",
    "\n",
    "    \n",
    "    return True\n",
    "    \n",
    "\n",
    "\n",
    "def temp(input, counter, answer) :\n",
    "    \n",
    "    if input == answer :\n",
    "        return input, counter\n",
    "    else :\n",
    "        index = max_index_finder(input, counter, answer)\n",
    "        \n",
    "        \n",
    "        input = swap(index, input)\n",
    "        input = swap(counter, input)\n",
    "        \n",
    "        \n",
    "        return temp(input, counter+1, answer)\n",
    "\n",
    "\n",
    "\n"
   ]
  },
  {
   "cell_type": "code",
   "execution_count": null,
   "metadata": {},
   "outputs": [
    {
     "name": "stdout",
     "output_type": "stream",
     "text": [
      "new array sort start !!! \n",
      "result :  [1] \t counter :  0\n",
      "new array sort start !!! \n",
      "max_number(index) :  2 ( 1 )\n",
      "[1, 2]\n",
      "[1] [2]\n",
      "[1, 2]\n",
      "[] [2, 1]\n",
      "result :  [2, 1] \t counter :  1\n",
      "new array sort start !!! \n",
      "max_number(index) :  3 ( 1 )\n",
      "[1, 3, 2]\n",
      "[1] [2, 3]\n",
      "[1, 2, 3]\n",
      "[] [3, 2, 1]\n",
      "result :  [3, 2, 1] \t counter :  1\n",
      "new array sort start !!! \n",
      "max_number(index) :  5 ( 3 )\n",
      "[4, 3, 2, 5, 1]\n",
      "[4, 3, 2] [1, 5]\n",
      "[4, 3, 2, 1, 5]\n",
      "[] [5, 1, 2, 3, 4]\n",
      "max_number(index) :  4 ( 4 )\n",
      "[5, 1, 2, 3, 4]\n",
      "[5, 1, 2, 3] [4]\n",
      "[5, 1, 2, 3, 4]\n",
      "[5] [4, 3, 2, 1]\n",
      "result :  [5, 4, 3, 2, 1] \t counter :  2\n",
      "new array sort start !!! \n",
      "result :  [4, 3, 2, 1] \t counter :  0\n",
      "new array sort start !!! \n",
      "max_number(index) :  8 ( 5 )\n",
      "[2, 5, 7, 6, 4, 8]\n",
      "[2, 5, 7, 6, 4] [8]\n",
      "[2, 5, 7, 6, 4, 8]\n",
      "[] [8, 4, 6, 7, 5, 2]\n",
      "max_number(index) :  7 ( 3 )\n",
      "[8, 4, 6, 7, 5, 2]\n",
      "[8, 4, 6] [2, 5, 7]\n",
      "[8, 4, 6, 2, 5, 7]\n",
      "[8] [7, 5, 2, 6, 4]\n",
      "max_number(index) :  6 ( 4 )\n",
      "[8, 7, 5, 2, 6, 4]\n",
      "[8, 7, 5, 2] [4, 6]\n",
      "[8, 7, 5, 2, 4, 6]\n",
      "[8, 7] [6, 4, 2, 5]\n",
      "max_number(index) :  5 ( 5 )\n",
      "[8, 7, 6, 4, 2, 5]\n",
      "[8, 7, 6, 4, 2] [5]\n",
      "[8, 7, 6, 4, 2, 5]\n",
      "[8, 7, 6] [5, 2, 4]\n",
      "max_number(index) :  4 ( 5 )\n",
      "[8, 7, 6, 5, 2, 4]\n",
      "[8, 7, 6, 5, 2] [4]\n",
      "[8, 7, 6, 5, 2, 4]\n",
      "[8, 7, 6, 5] [4, 2]\n",
      "result :  [8, 7, 6, 5, 4, 2] \t counter :  5\n",
      "new array sort start !!! \n",
      "result :  [5, 4, 3, 2, 1] \t counter :  0\n"
     ]
    }
   ],
   "source": [
    "input = [[1],\n",
    "[1, 2],\n",
    "[1, 3, 2],\n",
    "[4, 3, 2, 5, 1],\n",
    "[4, 3, 2, 1],\n",
    "[2, 5, 7, 6, 4, 8],\n",
    "[5, 4, 3, 2, 1]]\n",
    "\n",
    "for i in input :\n",
    "    input_arr = i\n",
    "    counter = 0\n",
    "    counter = 0 # 뒤집는 횟수\n",
    "    answer = input_arr.copy()\n",
    "    answer.sort()\n",
    "    answer.reverse()    \n",
    "\n",
    "    print(\"new array sort start !!! \")\n",
    "    result, counter = temp(input_arr, counter, answer)\n",
    "    print(\"result : \", result, \"\\t counter : \", counter)\n",
    "\n",
    "\n",
    "\n",
    "\n"
   ]
  }
 ],
 "metadata": {
  "kernelspec": {
   "display_name": "Python 3 (ipykernel)",
   "language": "python",
   "name": "python3"
  },
  "language_info": {
   "codemirror_mode": {
    "name": "ipython",
    "version": 3
   },
   "file_extension": ".py",
   "mimetype": "text/x-python",
   "name": "python",
   "nbconvert_exporter": "python",
   "pygments_lexer": "ipython3",
   "version": "3.9.7"
  },
  "vscode": {
   "interpreter": {
    "hash": "0e740bf575205bc083f45218be0023a9700b175dfc03db048005449ff4ae974b"
   }
  }
 },
 "nbformat": 4,
 "nbformat_minor": 4
}
