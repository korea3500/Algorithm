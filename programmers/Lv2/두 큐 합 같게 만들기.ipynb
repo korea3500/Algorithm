{
 "cells": [
  {
   "cell_type": "code",
   "execution_count": 58,
   "metadata": {},
   "outputs": [],
   "source": [
    "import queue\n",
    "from collections import deque"
   ]
  },
  {
   "cell_type": "markdown",
   "metadata": {},
   "source": [
    "$x+y$"
   ]
  },
  {
   "cell_type": "code",
   "execution_count": 75,
   "metadata": {},
   "outputs": [
    {
     "name": "stdout",
     "output_type": "stream",
     "text": [
      "total :  20\n",
      "deque([1, 2, 1, 2]) deque([1, 10, 1, 2]) 14\n",
      "deque([1, 2, 1, 2, 1]) deque([10, 1, 2]) 13\n",
      "deque([1, 2, 1, 2, 1, 10]) deque([1, 2]) 3\n",
      "deque([2, 1, 2, 1, 10]) deque([1, 2, 1]) 4\n",
      "deque([1, 2, 1, 10]) deque([1, 2, 1, 2]) 6\n",
      "deque([2, 1, 10]) deque([1, 2, 1, 2, 1]) 7\n",
      "deque([1, 10]) deque([1, 2, 1, 2, 1, 2]) 9\n",
      "deque([10]) deque([1, 2, 1, 2, 1, 2, 1]) 10\n",
      "7\n"
     ]
    }
   ],
   "source": [
    "queue1 = deque([1, 2, 1, 2])\n",
    "queue2 = deque([1, 10, 1, 2])\n",
    "\n",
    "def solution(queue1, queue2):\n",
    "    count = 0\n",
    "    total = sum(queue2) + sum(queue1)\n",
    "    print('total : ', total)\n",
    "    \n",
    "    queue_total = total//2\n",
    "    max_count = max(len(queue1), len(queue2)) * 3\n",
    "    queue2_sum = sum(queue2)\n",
    "\n",
    "    for i in range(0, max_count + 1) :\n",
    "        print(queue1, queue2, queue2_sum)\n",
    "        if queue_total != queue2_sum :\n",
    "            if queue2_sum > queue_total :\n",
    "                queue2_sum -= queue2[0]\n",
    "                queue1.append(queue2.popleft())\n",
    "                count +=1\n",
    "            else :\n",
    "                queue2_sum += queue1[0]\n",
    "                queue2.append(queue1.popleft())\n",
    "                count +=1 \n",
    "        else :\n",
    "            return count\n",
    "    return -1\n",
    "    \n",
    "print(solution(queue1, queue2))"
   ]
  }
 ],
 "metadata": {
  "kernelspec": {
   "display_name": "Python 3.9.7 ('reinforcement')",
   "language": "python",
   "name": "python3"
  },
  "language_info": {
   "codemirror_mode": {
    "name": "ipython",
    "version": 3
   },
   "file_extension": ".py",
   "mimetype": "text/x-python",
   "name": "python",
   "nbconvert_exporter": "python",
   "pygments_lexer": "ipython3",
   "version": "3.9.7"
  },
  "orig_nbformat": 4,
  "vscode": {
   "interpreter": {
    "hash": "0e740bf575205bc083f45218be0023a9700b175dfc03db048005449ff4ae974b"
   }
  }
 },
 "nbformat": 4,
 "nbformat_minor": 2
}
