{
 "cells": [
  {
   "cell_type": "code",
   "execution_count": null,
   "metadata": {},
   "outputs": [],
   "source": [
    "def solution(left, right):\n",
    "    answer = 0\n",
    "    divisor_count = 1\n",
    "    \n",
    "    for i in range(left, right + 1) :\n",
    "        # print(i)\n",
    "        count = 0        \n",
    "        for j in range(divisor_count, i + 1) :\n",
    "            if i % j == 0 :\n",
    "                count += 1\n",
    "            # print(i, j, i % j)\n",
    "        # print(count, i)\n",
    "        if count %2 == 1 :\n",
    "            answer -= i\n",
    "        else :\n",
    "            answer += i\n",
    "    return answer"
   ]
  }
 ],
 "metadata": {
  "language_info": {
   "name": "python"
  },
  "orig_nbformat": 4
 },
 "nbformat": 4,
 "nbformat_minor": 2
}
