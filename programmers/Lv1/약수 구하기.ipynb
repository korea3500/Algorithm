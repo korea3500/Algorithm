{
 "cells": [
  {
   "cell_type": "code",
   "execution_count": null,
   "metadata": {},
   "outputs": [],
   "source": [
    "def solution(left, right):\n",
    "    answer = 0\n",
    "    divisor_count = 1\n",
    "    \n",
    "    for i in range(left, right + 1) :\n",
    "        # print(i)\n",
    "        count = 0        \n",
    "        for j in range(divisor_count, i + 1) :\n",
    "            if i % j == 0 :\n",
    "                count += 1\n",
    "            # print(i, j, i % j)\n",
    "        # print(count, i)\n",
    "        if count %2 == 1 :\n",
    "            answer -= i\n",
    "        else :\n",
    "            answer += i\n",
    "    return answer"
   ]
  }
 ],
 "metadata": {
  "kernelspec": {
   "display_name": "Python 3.9.7 ('reinforcement')",
   "language": "python",
   "name": "python3"
  },
  "language_info": {
   "name": "python",
   "version": "3.9.7"
  },
  "orig_nbformat": 4,
  "vscode": {
   "interpreter": {
    "hash": "0e740bf575205bc083f45218be0023a9700b175dfc03db048005449ff4ae974b"
   }
  }
 },
 "nbformat": 4,
 "nbformat_minor": 2
}
