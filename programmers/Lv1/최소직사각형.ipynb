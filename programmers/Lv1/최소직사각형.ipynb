{
 "cells": [
  {
   "cell_type": "markdown",
   "metadata": {},
   "source": [
    "https://school.programmers.co.kr/learn/courses/30/lessons/86491?language=python3"
   ]
  },
  {
   "cell_type": "code",
   "execution_count": 26,
   "metadata": {},
   "outputs": [],
   "source": [
    "def solution(sizes):\n",
    "    max_w = 0\n",
    "    max_h = 0\n",
    "\n",
    "\n",
    "    for i in sizes :\n",
    "        w = max(i)\n",
    "        h = min(i)\n",
    "        if w > max_w :\n",
    "            max_w = w\n",
    "        if h > max_h :\n",
    "            max_h = h\n",
    "\n",
    "    \n",
    "    return max_w * max_h\n",
    "\n",
    "sizes = [[60, 50], [30, 70], [60, 30], [80, 40]]\n",
    "print(solution(sizes))\n"
   ]
  },
  {
   "cell_type": "code",
   "execution_count": null,
   "metadata": {},
   "outputs": [],
   "source": [
    "def solution_2(sizes):\n",
    "    max_w = 0\n",
    "    max_h = 0\n",
    "\n",
    "\n",
    "    for i in sizes :\n",
    "        w = max(i)\n",
    "        h = min(i)\n",
    "        if w > max_w :\n",
    "            max_w = w\n",
    "        if h > max_h :\n",
    "            max_h = h\n",
    "\n",
    "    \n",
    "    return max_w * max_h\n",
    "\n",
    "sizes = [[60, 50], [30, 70], [60, 30], [80, 40]]\n",
    "print(solution_2(sizes))\n"
   ]
  }
 ],
 "metadata": {
  "kernelspec": {
   "display_name": "Python 3.9.7 ('reinforcement')",
   "language": "python",
   "name": "python3"
  },
  "language_info": {
   "codemirror_mode": {
    "name": "ipython",
    "version": 3
   },
   "file_extension": ".py",
   "mimetype": "text/x-python",
   "name": "python",
   "nbconvert_exporter": "python",
   "pygments_lexer": "ipython3",
   "version": "3.9.7"
  },
  "orig_nbformat": 4,
  "vscode": {
   "interpreter": {
    "hash": "0e740bf575205bc083f45218be0023a9700b175dfc03db048005449ff4ae974b"
   }
  }
 },
 "nbformat": 4,
 "nbformat_minor": 2
}
