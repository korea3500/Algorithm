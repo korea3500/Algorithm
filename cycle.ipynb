{
 "cells": [
  {
   "cell_type": "markdown",
   "metadata": {},
   "source": [
    "### prob. 2\n",
    "- 어떤 자연수 n이 주어졌을때 수열의 다음 수는 다음과 같이 결정된다.\n",
    "- n 짝수 ->  n/2\n",
    "- n 홀수 -> 3n+1\n",
    "- 이와 같은 수열의 끝은 항상 1이되는 것으로 생각되고 있다.\n",
    "- 1까지의 전체수열의 길이를 n의 cycle 길이라고 한다.\n",
    "- ex) 22 11 34 17 52 26 13 40 20 10 5 16 8 4 2 1\n",
    "\n",
    "> 문제> $i\\le n \\le j$ 일 때 최대 cycle 길이를 구하는 함수\n",
    "> \n",
    "> input> prob2.txt\n",
    "> \n",
    "> output> 각 line의 두 수자사이의 최대 cycle 길이\n",
    "> \n",
    "> 정답: 24,112,179,262"
   ]
  },
  {
   "cell_type": "code",
   "execution_count": null,
   "metadata": {},
   "outputs": [
    {
     "name": "stdout",
     "output_type": "stream",
     "text": [
      "24\n",
      "112\n",
      "179\n",
      "262\n"
     ]
    }
   ],
   "source": [
    "prob2 = [[22, 25],\n",
    "[10, 30],\n",
    "[100, 1000],\n",
    "[1000, 10000]]\n",
    "\n",
    "def constraints(input, counter) :\n",
    "    # print(counter)\n",
    "    if input > 1 :\n",
    "        # print(counter)\n",
    "        if input % 2 == 1 :\n",
    "            return constraints(input * 3 + 1, counter + 1)\n",
    "        else :\n",
    "            return constraints(input / 2, counter + 1)\n",
    "\n",
    "    else :\n",
    "        # print(counter)\n",
    "        return counter\n",
    "\n",
    "def prob_2(arr) :\n",
    "    for i in arr :\n",
    "        input_length = [j for j in range(i[0], i[1] + 1)]\n",
    "        answer = []\n",
    "        for j in input_length :\n",
    "            # print(j)\n",
    "            answer.append(constraints(j, counter = 1))\n",
    "            \n",
    "        print(max(answer))\n",
    "        # print(answer)\n",
    "\n",
    "prob_2(prob2)"
   ]
  }
 ],
 "metadata": {
  "kernelspec": {
   "display_name": "Python 3.9.7 ('reinforcement')",
   "language": "python",
   "name": "python3"
  },
  "language_info": {
   "name": "python",
   "version": "3.9.7"
  },
  "orig_nbformat": 4,
  "vscode": {
   "interpreter": {
    "hash": "0e740bf575205bc083f45218be0023a9700b175dfc03db048005449ff4ae974b"
   }
  }
 },
 "nbformat": 4,
 "nbformat_minor": 2
}
