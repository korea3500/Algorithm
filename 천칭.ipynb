{
 "cells": [
  {
   "cell_type": "markdown",
   "metadata": {},
   "source": [
    "### prob. 3\n",
    "- 12개의 똑같은 모양과 색의 당구공이 있다.\n",
    "- 그 중 1개가 무게가 다른다.\n",
    "- 천칭을 3번만 써서 찾아봐라"
   ]
  },
  {
   "cell_type": "code",
   "execution_count": null,
   "metadata": {},
   "outputs": [],
   "source": [
    "from operator import xor\n",
    "import random\n",
    "\n",
    "\n",
    "def first(left, right) :\n",
    "    temp_first = False\n",
    "    if sum(left) > sum(right) :\n",
    "        temp_first = True # large\n",
    "    print(left, right, temp_first)\n",
    "    return second(left, right, temp_first)\n",
    "\n",
    "\n",
    "def second(left, right, temp_first) :\n",
    "    \n",
    "    left_left = left[0:3] # (0, 1, 2)\n",
    "    left_right = left[3:6] # (3, 4, 5)\n",
    "    right_left = right[0:3] #(6, 7, 8)\n",
    "    right_right = right[3:6] # (9, 10, 11)\n",
    "    \n",
    "    temp_second = False\n",
    "    target = []\n",
    "    if sum(left_left + right_left) > sum(right_right + left_right): # 3개를 교환했는데 천칭이 똑같이 기운 경우(안 바꾼 곳에 답이 있는 경우) 천칭 #2\n",
    "        temp_second = True\n",
    "        if temp_first :\n",
    "            target = left_left\n",
    "            \n",
    "        else :\n",
    "            target = right_left\n",
    "\n",
    "    # elif sum(left_left + right_left) < sum(right_right + left_right) :\n",
    "    else:\n",
    "        \n",
    "        if temp_first :\n",
    "            target = left_right\n",
    "\n",
    "        else :\n",
    "            target = right_right\n",
    "    # print(target, temp_second)\n",
    "    return third(target, temp_first, temp_second)\n",
    "\n",
    "def third(input, temp_first, temp_second) :\n",
    "    print(input, temp_first, temp_second)\n",
    "    answer = -1\n",
    "    if not (temp_first ^ temp_second):\n",
    "        if input[0] > input[1] : # 천칭 #3\n",
    "            answer = input[0]\n",
    "        elif input[0] == input[1] :\n",
    "            answer = input[2]\n",
    "        elif input[0] < input[1] :\n",
    "            answer = input[1]\n",
    "        else :\n",
    "            answer = -1 # error\n",
    "    else :\n",
    "        if input[0] > input[1] :    #천칭 #3\n",
    "            answer = input[]\n",
    "        elif input[0] == input[1] :\n",
    "            answer = input[2]\n",
    "        elif input[0] < input[1] :\n",
    "            answer = input[1]    \n",
    "        else :\n",
    "            answer = -1        \n",
    "    return answer\n",
    "\n",
    "\n",
    "\n",
    "\n"
   ]
  },
  {
   "cell_type": "code",
   "execution_count": null,
   "metadata": {},
   "outputs": [],
   "source": [
    "input = [5 for i in range(12)]\n",
    "\n",
    "random_index = random.randint(0, 12)\n",
    "input[random_index-1] = 7\n",
    "\n",
    "print(input)\n",
    "\n",
    "left = input[0:6]\n",
    "right = input[6:12]\n",
    "\n",
    "print(first(left, right))"
   ]
  }
 ],
 "metadata": {
  "kernelspec": {
   "display_name": "Python 3.9.7 ('reinforcement')",
   "language": "python",
   "name": "python3"
  },
  "language_info": {
   "name": "python",
   "version": "3.9.7"
  },
  "orig_nbformat": 4,
  "vscode": {
   "interpreter": {
    "hash": "0e740bf575205bc083f45218be0023a9700b175dfc03db048005449ff4ae974b"
   }
  }
 },
 "nbformat": 4,
 "nbformat_minor": 2
}
