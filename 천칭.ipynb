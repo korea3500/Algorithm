{
 "cells": [
  {
   "cell_type": "markdown",
   "metadata": {},
   "source": [
    "### prob. 3\n",
    "- 12개의 똑같은 모양과 색의 당구공이 있다.\n",
    "- 그 중 1개가 무게가 다른다.\n",
    "- 천칭을 3번만 써서 찾아봐라"
   ]
  },
  {
   "cell_type": "code",
   "execution_count": 130,
   "metadata": {},
   "outputs": [],
   "source": [
    "\n",
    "\n",
    "\n",
    "def first(left, mid, right) :\n",
    "    temp_first = None\n",
    "    if sum(left) > sum(mid) :\n",
    "        left_left = left[0:2] + [right[0]] # 1, 2, 9\n",
    "        left_right = left[2:4] + [mid[0]] # 3, 4, 5\n",
    "\n",
    "        if sum(left_left) == sum(left_right) : # 1, 2, 9 vs 3, 4, 5, target = {6, 7, 8}\n",
    "            \n",
    "            if mid[1] == mid[2] :\n",
    "                answer = mid[3]\n",
    "            elif mid[1] > mid[2] :\n",
    "                answer = mid[2]\n",
    "            else :\n",
    "                answer = mid[1]\n",
    "                \n",
    "\n",
    "        if sum(left_left) > sum(left_right) :\n",
    "            \n",
    "\n",
    "            if left[0] > left[1] :\n",
    "                answer = left[0]\n",
    "            elif left[0] < left[1] :\n",
    "                answer = left[1]\n",
    "            else :\n",
    "                answer = mid[0]\n",
    "\n",
    "        if sum(left_left) < sum(left_right) : # 1, 2, 5 vs 3, 4, 9(normal)\n",
    "            if left[2] > left[3] :\n",
    "                answer = left[2]\n",
    "            elif left[2] < left[3] :\n",
    "                answer = left[3]\n",
    "            else :\n",
    "                answer = -1\n",
    "\n",
    "    elif sum(left) < sum(mid) : # 1, 2, 3, 4 vs 5, 6, 7, 8\n",
    "        mid_left = mid[0:2] + [right[0]] # 5, 6, 9\n",
    "        mid_right = mid[2:4] + [left[0]] # 7, 8, 1\n",
    "\n",
    "        if sum(mid_left) == sum(mid_right) : # 5, 6, 9 vs 7, 8, 1\n",
    "            \n",
    "            if left[1] == left[2] :\n",
    "                answer = left[3]\n",
    "            elif left[1] > left[2] :\n",
    "                answer = left[2]\n",
    "            else :\n",
    "                answer = left[1]\n",
    "                \n",
    "\n",
    "        elif sum(mid_left) > sum(mid_right) :\n",
    "            if mid[0] > mid[1] :\n",
    "                answer = mid[0]\n",
    "            elif mid[0] < mid[1] :\n",
    "                answer = mid[1]\n",
    "            else :\n",
    "                answer = left[0]            \n",
    "\n",
    "        elif sum(mid_left) < sum(mid_right) : # 5, 6, 9 vs 7, 8, 1(normal)\n",
    "            if mid[2] > mid[3] :\n",
    "                answer = mid[2]\n",
    "            elif mid[2] < mid[3] :\n",
    "                answer = mid[3]\n",
    "            else :\n",
    "                answer = -1                \n",
    "        \n",
    "\n",
    "    elif sum(left) == sum(mid) :\n",
    "        left_left = left[0:3]\n",
    "        right_left = right[0:3]\n",
    "        if sum(left_left) == sum(right_left) : # 1, 2, 3, vs 9, 10, 11\n",
    "            answer = right[3]\n",
    "        elif sum(left_left) < sum(right_left) :\n",
    "            if(right[0] > right[1]) :\n",
    "                answer = right[0]\n",
    "            elif right[0] < right[1] :\n",
    "                answer = right[1]\n",
    "            else :\n",
    "                answer = right[2]\n",
    "        elif sum(left_left) > sum(right_left) :\n",
    "            if(right[0] > right[1]) :\n",
    "                answer = right[1]\n",
    "            elif right[0] < right[1] :\n",
    "                answer = right[0]\n",
    "            else :\n",
    "                answer = right[2]            \n",
    "\n",
    "        \n",
    "\n",
    "    return answer\n",
    "\n",
    "\n",
    "\n"
   ]
  },
  {
   "cell_type": "code",
   "execution_count": 197,
   "metadata": {},
   "outputs": [
    {
     "name": "stdout",
     "output_type": "stream",
     "text": [
      "[5, 5, 5, 5, 7, 5, 5, 5, 5, 5, 5, 5]\n",
      "7\n"
     ]
    }
   ],
   "source": [
    "from operator import xor\n",
    "import random\n",
    "\n",
    "input = [5 for i in range(12)]\n",
    "\n",
    "random_index = random.randint(0, 12)\n",
    "input[random_index-1] = 7\n",
    "\n",
    "print(input)\n",
    "\n",
    "left = input[0:4]\n",
    "mid = input[4:8]\n",
    "right = input[8:12]\n",
    "\n",
    "print(first(left, mid, right))"
   ]
  },
  {
   "cell_type": "code",
   "execution_count": 8,
   "metadata": {},
   "outputs": [
    {
     "data": {
      "text/plain": [
       "[5, 5, 5, 5, 5]"
      ]
     },
     "execution_count": 8,
     "metadata": {},
     "output_type": "execute_result"
    }
   ],
   "source": [
    "left + [5]"
   ]
  }
 ],
 "metadata": {
  "kernelspec": {
   "display_name": "Python 3.9.7 ('reinforcement')",
   "language": "python",
   "name": "python3"
  },
  "language_info": {
   "codemirror_mode": {
    "name": "ipython",
    "version": 3
   },
   "file_extension": ".py",
   "mimetype": "text/x-python",
   "name": "python",
   "nbconvert_exporter": "python",
   "pygments_lexer": "ipython3",
   "version": "3.9.7"
  },
  "orig_nbformat": 4,
  "vscode": {
   "interpreter": {
    "hash": "0e740bf575205bc083f45218be0023a9700b175dfc03db048005449ff4ae974b"
   }
  }
 },
 "nbformat": 4,
 "nbformat_minor": 2
}
