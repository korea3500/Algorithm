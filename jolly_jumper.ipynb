{
 "cells": [
  {
   "cell_type": "markdown",
   "metadata": {},
   "source": [
    "### prob. 1\n",
    "- n개의 정수로 이루어진 수열\n",
    "- 인접한 두 수의 차이는 1부터 n-1 모두 가진다\n",
    "- ex 1 4 2 3  \n",
    "> 문제> n개의 수열이 jolly jumper 인지 판단하는 함수  \n",
    ">\n",
    "> input> prob1.txt  \n",
    ">\n",
    "> output> line 마다 True or False  \n",
    ">\n",
    "> 정답: True, False, True, False, False"
   ]
  },
  {
   "cell_type": "markdown",
   "metadata": {},
   "source": [
    "N개의 정수로 이루어진 수열에 대해 서로 인접해 있는 두 수의 차가 1에서 N-1까지의 값을 모두 가지면 그 수열을 유쾌한 점퍼(jolly jumper)라고 부른다."
   ]
  },
  {
   "cell_type": "code",
   "execution_count": null,
   "metadata": {},
   "outputs": [
    {
     "name": "stdout",
     "output_type": "stream",
     "text": [
      "True\n",
      "False\n",
      "True\n",
      "False\n",
      "False\n"
     ]
    }
   ],
   "source": [
    "input_1 = [\n",
    "[1, 4, 2, 3],\n",
    "[1, 4, 2, 3, 2, 1, 7, 4, 6],\n",
    "[1, 4, 2, 3, 7, 12, 18, 25, 33],\n",
    "[4,1,4,2,3],\n",
    "[5,1,4,2, -1, 6]]\n",
    "\n",
    "def jolly_jumper(input_1) :\n",
    "\n",
    "    for i in input_1 :\n",
    "        length = len(i)\n",
    "        answer_array = []\n",
    "        target_sequence = [temp + 1 for temp in range(len(i)-1)]\n",
    "\n",
    "        for j in range(1, length-1) :\n",
    "            pre_answer = i[j] - i[j-1]\n",
    "            post_answer = i[j] - i[j+1]\n",
    "\n",
    "            answer_array.append(abs(pre_answer))\n",
    "            answer_array.append(abs(post_answer))\n",
    "\n",
    "        print(set(target_sequence) == set(answer_array))\n",
    "\n",
    "jolly_jumper(input_1)"
   ]
  }
 ],
 "metadata": {
  "kernelspec": {
   "display_name": "Python 3.9.7 ('reinforcement')",
   "language": "python",
   "name": "python3"
  },
  "language_info": {
   "name": "python",
   "version": "3.9.7"
  },
  "orig_nbformat": 4,
  "vscode": {
   "interpreter": {
    "hash": "0e740bf575205bc083f45218be0023a9700b175dfc03db048005449ff4ae974b"
   }
  }
 },
 "nbformat": 4,
 "nbformat_minor": 2
}
